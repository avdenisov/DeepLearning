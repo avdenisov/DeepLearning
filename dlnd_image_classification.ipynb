{
 "cells": [
  {
   "cell_type": "markdown",
   "metadata": {
    "collapsed": true
   },
   "source": [
    "# Image Classification\n",
    "In this project, you'll classify images from the [CIFAR-10 dataset](https://www.cs.toronto.edu/~kriz/cifar.html).  The dataset consists of airplanes, dogs, cats, and other objects. You'll preprocess the images, then train a convolutional neural network on all the samples. The images need to be normalized and the labels need to be one-hot encoded.  You'll get to apply what you learned and build a convolutional, max pooling, dropout, and fully connected layers.  At the end, you'll get to see your neural network's predictions on the sample images.\n",
    "## Get the Data\n",
    "Run the following cell to download the [CIFAR-10 dataset for python](https://www.cs.toronto.edu/~kriz/cifar-10-python.tar.gz)."
   ]
  },
  {
   "cell_type": "code",
   "execution_count": 1,
   "metadata": {},
   "outputs": [
    {
     "name": "stdout",
     "output_type": "stream",
     "text": [
      "All files found!\n"
     ]
    }
   ],
   "source": [
    "\"\"\"\n",
    "DON'T MODIFY ANYTHING IN THIS CELL THAT IS BELOW THIS LINE\n",
    "\"\"\"\n",
    "from urllib.request import urlretrieve\n",
    "from os.path import isfile, isdir\n",
    "from tqdm import tqdm\n",
    "import problem_unittests as tests\n",
    "import tarfile\n",
    "\n",
    "cifar10_dataset_folder_path = 'cifar-10-batches-py'\n",
    "\n",
    "# Use Floyd's cifar-10 dataset if present\n",
    "floyd_cifar10_location = '/input/cifar-10/python.tar.gz'\n",
    "if isfile(floyd_cifar10_location):\n",
    "    tar_gz_path = floyd_cifar10_location\n",
    "else:\n",
    "    tar_gz_path = 'cifar-10-python.tar.gz'\n",
    "\n",
    "class DLProgress(tqdm):\n",
    "    last_block = 0\n",
    "\n",
    "    def hook(self, block_num=1, block_size=1, total_size=None):\n",
    "        self.total = total_size\n",
    "        self.update((block_num - self.last_block) * block_size)\n",
    "        self.last_block = block_num\n",
    "\n",
    "if not isfile(tar_gz_path):\n",
    "    with DLProgress(unit='B', unit_scale=True, miniters=1, desc='CIFAR-10 Dataset') as pbar:\n",
    "        urlretrieve(\n",
    "            'https://www.cs.toronto.edu/~kriz/cifar-10-python.tar.gz',\n",
    "            tar_gz_path,\n",
    "            pbar.hook)\n",
    "\n",
    "if not isdir(cifar10_dataset_folder_path):\n",
    "    with tarfile.open(tar_gz_path) as tar:\n",
    "        tar.extractall()\n",
    "        tar.close()\n",
    "\n",
    "\n",
    "tests.test_folder_path(cifar10_dataset_folder_path)"
   ]
  },
  {
   "cell_type": "markdown",
   "metadata": {},
   "source": [
    "## Explore the Data\n",
    "The dataset is broken into batches to prevent your machine from running out of memory.  The CIFAR-10 dataset consists of 5 batches, named `data_batch_1`, `data_batch_2`, etc.. Each batch contains the labels and images that are one of the following:\n",
    "* airplane\n",
    "* automobile\n",
    "* bird\n",
    "* cat\n",
    "* deer\n",
    "* dog\n",
    "* frog\n",
    "* horse\n",
    "* ship\n",
    "* truck\n",
    "\n",
    "Understanding a dataset is part of making predictions on the data.  Play around with the code cell below by changing the `batch_id` and `sample_id`. The `batch_id` is the id for a batch (1-5). The `sample_id` is the id for a image and label pair in the batch.\n",
    "\n",
    "Ask yourself \"What are all possible labels?\", \"What is the range of values for the image data?\", \"Are the labels in order or random?\".  Answers to questions like these will help you preprocess the data and end up with better predictions."
   ]
  },
  {
   "cell_type": "code",
   "execution_count": 2,
   "metadata": {},
   "outputs": [
    {
     "name": "stdout",
     "output_type": "stream",
     "text": [
      "\n",
      "Stats of batch 3:\n",
      "Samples: 10000\n",
      "Label Counts: {0: 994, 1: 1042, 2: 965, 3: 997, 4: 990, 5: 1029, 6: 978, 7: 1015, 8: 961, 9: 1029}\n",
      "First 20 Labels: [8, 5, 0, 6, 9, 2, 8, 3, 6, 2, 7, 4, 6, 9, 0, 0, 7, 3, 7, 2]\n",
      "\n",
      "Example of Image 9:\n",
      "Image - Min Value: 11 Max Value: 254\n",
      "Image - Shape: (32, 32, 3)\n",
      "Label - Label Id: 2 Name: bird\n"
     ]
    },
    {
     "data": {
      "image/png": "[encoded data removed]",
      "text/plain": [
       "<matplotlib.figure.Figure at 0x7f1481355080>"
      ]
     },
     "metadata": {
      "image/png": {
       "height": 250,
       "width": 253
      }
     },
     "output_type": "display_data"
    }
   ],
   "source": [
    "%matplotlib inline\n",
    "%config InlineBackend.figure_format = 'retina'\n",
    "\n",
    "import helper\n",
    "import numpy as np\n",
    "\n",
    "# Explore the dataset\n",
    "batch_id = 3\n",
    "sample_id = 9\n",
    "helper.display_stats(cifar10_dataset_folder_path, batch_id, sample_id)"
   ]
  },
  {
   "cell_type": "markdown",
   "metadata": {},
   "source": [
    "## Implement Preprocess Functions\n",
    "### Normalize\n",
    "In the cell below, implement the `normalize` function to take in image data, `x`, and return it as a normalized Numpy array. The values should be in the range of 0 to 1, inclusive.  The return object should be the same shape as `x`."
   ]
  },
  {
   "cell_type": "code",
   "execution_count": 3,
   "metadata": {},
   "outputs": [
    {
     "name": "stdout",
     "output_type": "stream",
     "text": [
      "Tests Passed\n"
     ]
    }
   ],
   "source": [
    "def normalize(x):\n",
    "    \"\"\"\n",
    "    Normalize a list of sample image data in the range of 0 to 1\n",
    "    : x: List of image data.  The image shape is (32, 32, 3)\n",
    "    : return: Numpy array of normalize data\n",
    "    \"\"\"\n",
    "    # TODO: Implement Function\n",
    "    \n",
    "    x = x.astype('float32')\n",
    "    xmax = np.max(x)\n",
    "    xmin = np.min(x)\n",
    "    x = (x - xmin)/(xmax-xmin)\n",
    "    #x = x.astype('float32')\n",
    "    #if x.max() > 1.0:\n",
    "    #    x /= 255.0\n",
    "    return x\n",
    "\n",
    "\n",
    "\"\"\"\n",
    "DON'T MODIFY ANYTHING IN THIS CELL THAT IS BELOW THIS LINE\n",
    "\"\"\"\n",
    "tests.test_normalize(normalize)"
   ]
  },
  {
   "cell_type": "markdown",
   "metadata": {},
   "source": [
    "### One-hot encode\n",
    "Just like the previous code cell, you'll be implementing a function for preprocessing.  This time, you'll implement the `one_hot_encode` function. The input, `x`, are a list of labels.  Implement the function to return the list of labels as One-Hot encoded Numpy array.  The possible values for labels are 0 to 9. The one-hot encoding function should return the same encoding for each value between each call to `one_hot_encode`.  Make sure to save the map of encodings outside the function.\n",
    "\n",
    "Hint: Don't reinvent the wheel."
   ]
  },
  {
   "cell_type": "code",
   "execution_count": 4,
   "metadata": {},
   "outputs": [
    {
     "name": "stdout",
     "output_type": "stream",
     "text": [
      "Tests Passed\n"
     ]
    }
   ],
   "source": [
    "def one_hot_encode(x):\n",
    "    \"\"\"\n",
    "    One hot encode a list of sample labels. Return a one-hot encoded vector for each label.\n",
    "    : x: List of sample Labels\n",
    "    : return: Numpy array of one-hot encoded labels\n",
    "    \"\"\"\n",
    "    # TODO: Implement Function\n",
    "    #print(x)\n",
    "    targets = np.array(x).reshape(-1)\n",
    "    #print(targets)\n",
    "    #print('-',np.eye(10)[targets])\n",
    "    return np.eye(10)[targets] \n",
    "\n",
    "\n",
    "\"\"\"\n",
    "DON'T MODIFY ANYTHING IN THIS CELL THAT IS BELOW THIS LINE\n",
    "\"\"\"\n",
    "tests.test_one_hot_encode(one_hot_encode)"
   ]
  },
  {
   "cell_type": "markdown",
   "metadata": {},
   "source": [
    "### Randomize Data\n",
    "As you saw from exploring the data above, the order of the samples are randomized.  It doesn't hurt to randomize it again, but you don't need to for this dataset."
   ]
  },
  {
   "cell_type": "markdown",
   "metadata": {},
   "source": [
    "## Preprocess all the data and save it\n",
    "Running the code cell below will preprocess all the CIFAR-10 data and save it to file. The code below also uses 10% of the training data for validation."
   ]
  },
  {
   "cell_type": "code",
   "execution_count": 5,
   "metadata": {},
   "outputs": [],
   "source": [
    "\"\"\"\n",
    "DON'T MODIFY ANYTHING IN THIS CELL\n",
    "\"\"\"\n",
    "# Preprocess Training, Validation, and Testing Data\n",
    "helper.preprocess_and_save_data(cifar10_dataset_folder_path, normalize, one_hot_encode)"
   ]
  },
  {
   "cell_type": "markdown",
   "metadata": {},
   "source": [
    "# Check Point\n",
    "This is your first checkpoint.  If you ever decide to come back to this notebook or have to restart the notebook, you can start from here.  The preprocessed data has been saved to disk."
   ]
  },
  {
   "cell_type": "code",
   "execution_count": 6,
   "metadata": {
    "collapsed": true
   },
   "outputs": [],
   "source": [
    "\"\"\"\n",
    "DON'T MODIFY ANYTHING IN THIS CELL\n",
    "\"\"\"\n",
    "import pickle\n",
    "import problem_unittests as tests\n",
    "import helper\n",
    "\n",
    "# Load the Preprocessed Validation data\n",
    "valid_features, valid_labels = pickle.load(open('preprocess_validation.p', mode='rb'))"
   ]
  },
  {
   "cell_type": "markdown",
   "metadata": {},
   "source": [
    "## Build the network\n",
    "For the neural network, you'll build each layer into a function.  Most of the code you've seen has been outside of functions. To test your code more thoroughly, we require that you put each layer in a function.  This allows us to give you better feedback and test for simple mistakes using our unittests before you submit your project.\n",
    "\n",
    ">**Note:** If you're finding it hard to dedicate enough time for this course each week, we've provided a small shortcut to this part of the project. In the next couple of problems, you'll have the option to use classes from the [TensorFlow Layers](https://www.tensorflow.org/api_docs/python/tf/layers) or [TensorFlow Layers (contrib)](https://www.tensorflow.org/api_guides/python/contrib.layers) packages to build each layer, except the layers you build in the \"Convolutional and Max Pooling Layer\" section.  TF Layers is similar to Keras's and TFLearn's abstraction to layers, so it's easy to pickup.\n",
    "\n",
    ">However, if you would like to get the most out of this course, try to solve all the problems _without_ using anything from the TF Layers packages. You **can** still use classes from other packages that happen to have the same name as ones you find in TF Layers! For example, instead of using the TF Layers version of the `conv2d` class, [tf.layers.conv2d](https://www.tensorflow.org/api_docs/python/tf/layers/conv2d), you would want to use the TF Neural Network version of `conv2d`, [tf.nn.conv2d](https://www.tensorflow.org/api_docs/python/tf/nn/conv2d). \n",
    "\n",
    "Let's begin!\n",
    "\n",
    "### Input\n",
    "The neural network needs to read the image data, one-hot encoded labels, and dropout keep probability. Implement the following functions\n",
    "* Implement `neural_net_image_input`\n",
    " * Return a [TF Placeholder](https://www.tensorflow.org/api_docs/python/tf/placeholder)\n",
    " * Set the shape using `image_shape` with batch size set to `None`.\n",
    " * Name the TensorFlow placeholder \"x\" using the TensorFlow `name` parameter in the [TF Placeholder](https://www.tensorflow.org/api_docs/python/tf/placeholder).\n",
    "* Implement `neural_net_label_input`\n",
    " * Return a [TF Placeholder](https://www.tensorflow.org/api_docs/python/tf/placeholder)\n",
    " * Set the shape using `n_classes` with batch size set to `None`.\n",
    " * Name the TensorFlow placeholder \"y\" using the TensorFlow `name` parameter in the [TF Placeholder](https://www.tensorflow.org/api_docs/python/tf/placeholder).\n",
    "* Implement `neural_net_keep_prob_input`\n",
    " * Return a [TF Placeholder](https://www.tensorflow.org/api_docs/python/tf/placeholder) for dropout keep probability.\n",
    " * Name the TensorFlow placeholder \"keep_prob\" using the TensorFlow `name` parameter in the [TF Placeholder](https://www.tensorflow.org/api_docs/python/tf/placeholder).\n",
    "\n",
    "These names will be used at the end of the project to load your saved model.\n",
    "\n",
    "Note: `None` for shapes in TensorFlow allow for a dynamic size."
   ]
  },
  {
   "cell_type": "code",
   "execution_count": 7,
   "metadata": {},
   "outputs": [
    {
     "name": "stdout",
     "output_type": "stream",
     "text": [
      "Image Input Tests Passed.\n",
      "Label Input Tests Passed.\n",
      "Keep Prob Tests Passed.\n"
     ]
    }
   ],
   "source": [
    "import tensorflow as tf\n",
    "\n",
    "def neural_net_image_input(image_shape):\n",
    "    \"\"\"\n",
    "    Return a Tensor for a batch of image input\n",
    "    : image_shape: Shape of the images\n",
    "    : return: Tensor for image input.\n",
    "    \"\"\"\n",
    "    # TODO: Implement Function\n",
    "    height, width, channels = image_shape\n",
    "    x = tf.placeholder(tf.float32, shape = (None, height, width, channels), name = \"x\")\n",
    "    return x\n",
    "\n",
    "\n",
    "def neural_net_label_input(n_classes):\n",
    "    \"\"\"\n",
    "    Return a Tensor for a batch of label input\n",
    "    : n_classes: Number of classes\n",
    "    : return: Tensor for label input.\n",
    "    \"\"\"\n",
    "    # TODO: Implement Function\n",
    "    y = tf.placeholder(tf.float32, shape = (None, n_classes), name = \"y\")\n",
    "    return y\n",
    "\n",
    "\n",
    "def neural_net_keep_prob_input():\n",
    "    \"\"\"\n",
    "    Return a Tensor for keep probability\n",
    "    : return: Tensor for keep probability.\n",
    "    \"\"\"\n",
    "    # TODO: Implement Function\n",
    "    keep_prob = tf.placeholder(tf.float32, name = \"keep_prob\")\n",
    "    return keep_prob\n",
    "\n",
    "\n",
    "\"\"\"\n",
    "DON'T MODIFY ANYTHING IN THIS CELL THAT IS BELOW THIS LINE\n",
    "\"\"\"\n",
    "tf.reset_default_graph()\n",
    "tests.test_nn_image_inputs(neural_net_image_input)\n",
    "tests.test_nn_label_inputs(neural_net_label_input)\n",
    "tests.test_nn_keep_prob_inputs(neural_net_keep_prob_input)"
   ]
  },
  {
   "cell_type": "markdown",
   "metadata": {},
   "source": [
    "### Convolution and Max Pooling Layer\n",
    "Convolution layers have a lot of success with images. For this code cell, you should implement the function `conv2d_maxpool` to apply convolution then max pooling:\n",
    "* Create the weight and bias using `conv_ksize`, `conv_num_outputs` and the shape of `x_tensor`.\n",
    "* Apply a convolution to `x_tensor` using weight and `conv_strides`.\n",
    " * We recommend you use same padding, but you're welcome to use any padding.\n",
    "* Add bias\n",
    "* Add a nonlinear activation to the convolution.\n",
    "* Apply Max Pooling using `pool_ksize` and `pool_strides`.\n",
    " * We recommend you use same padding, but you're welcome to use any padding.\n",
    "\n",
    "**Note:** You **can't** use [TensorFlow Layers](https://www.tensorflow.org/api_docs/python/tf/layers) or [TensorFlow Layers (contrib)](https://www.tensorflow.org/api_guides/python/contrib.layers) for **this** layer, but you can still use TensorFlow's [Neural Network](https://www.tensorflow.org/api_docs/python/tf/nn) package. You may still use the shortcut option for all the **other** layers."
   ]
  },
  {
   "cell_type": "code",
   "execution_count": 8,
   "metadata": {},
   "outputs": [
    {
     "name": "stdout",
     "output_type": "stream",
     "text": [
      "Tests Passed\n"
     ]
    }
   ],
   "source": [
    "def conv2d_maxpool(x_tensor, conv_num_outputs, conv_ksize, conv_strides, pool_ksize, pool_strides):\n",
    "    \"\"\"\n",
    "    Apply convolution then max pooling to x_tensor\n",
    "    :param x_tensor: TensorFlow Tensor\n",
    "    :param conv_num_outputs: Number of outputs for the convolutional layer\n",
    "    :param conv_ksize: kernal size 2-D Tuple for the convolutional layer\n",
    "    :param conv_strides: Stride 2-D Tuple for convolution\n",
    "    :param pool_ksize: kernal size 2-D Tuple for pool\n",
    "    :param pool_strides: Stride 2-D Tuple for pool\n",
    "    : return: A tensor that represents convolution and max pooling of x_tensor\n",
    "    \"\"\"\n",
    "    # TODO: Implement Function\n",
    "    ksize_channels = x_tensor.get_shape().as_list()[3]\n",
    "    #print (x_tensor.get_shape().as_list())\n",
    "    \n",
    "    Wconv = tf.Variable(tf.truncated_normal([conv_ksize[0], conv_ksize[1], ksize_channels, conv_num_outputs], stddev=5e-2), tf.float32)\n",
    "    bconv = tf.Variable(tf.zeros([conv_num_outputs]), tf.float32)\n",
    "    \n",
    "    conv_strides_x, conv_strides_y = conv_strides\n",
    "        \n",
    "    x_tensor = tf.nn.conv2d(x_tensor, Wconv, \n",
    "                          strides=[1, conv_strides[0], conv_strides[1], 1],\n",
    "                          padding='SAME')\n",
    "    x_tensor = tf.nn.bias_add(x_tensor, bconv)\n",
    "    x_tensor = tf.nn.relu(x_tensor)\n",
    "    \n",
    "    x_tensor = tf.nn.max_pool(x_tensor, \n",
    "                            ksize=[1, pool_ksize[0], pool_ksize[1], 1], \n",
    "                            strides=[1, pool_strides[0], pool_strides[1], 1],\n",
    "                            padding='SAME')\n",
    "    return x_tensor \n",
    "\n",
    "\n",
    "\"\"\"\n",
    "DON'T MODIFY ANYTHING IN THIS CELL THAT IS BELOW THIS LINE\n",
    "\"\"\"\n",
    "tests.test_con_pool(conv2d_maxpool)"
   ]
  },
  {
   "cell_type": "markdown",
   "metadata": {},
   "source": [
    "### Flatten Layer\n",
    "Implement the `flatten` function to change the dimension of `x_tensor` from a 4-D tensor to a 2-D tensor.  The output should be the shape (*Batch Size*, *Flattened Image Size*). Shortcut option: you can use classes from the [TensorFlow Layers](https://www.tensorflow.org/api_docs/python/tf/layers) or [TensorFlow Layers (contrib)](https://www.tensorflow.org/api_guides/python/contrib.layers) packages for this layer. For more of a challenge, only use other TensorFlow packages."
   ]
  },
  {
   "cell_type": "code",
   "execution_count": 9,
   "metadata": {},
   "outputs": [
    {
     "name": "stdout",
     "output_type": "stream",
     "text": [
      "Tests Passed\n"
     ]
    }
   ],
   "source": [
    "import numpy as np\n",
    "\n",
    "def flatten(x_tensor):\n",
    "    \"\"\"\n",
    "    Flatten x_tensor to (Batch Size, Flattened Image Size)\n",
    "    : x_tensor: A tensor of size (Batch Size, ...), where ... are the image dimensions.\n",
    "    : return: A tensor of size (Batch Size, Flattened Image Size).\n",
    "    \"\"\"\n",
    "    # TODO: Implement Function\n",
    "    #print (x_tensor)\n",
    "    shape = x_tensor.get_shape().as_list()\n",
    "    dim = np.prod(shape[1:])\n",
    "    #print(dim)\n",
    "    x_tensor = tf.reshape(x_tensor, [-1, dim])\n",
    "    #print(x_tensor)\n",
    "    return x_tensor\n",
    "\n",
    "\n",
    "\"\"\"\n",
    "DON'T MODIFY ANYTHING IN THIS CELL THAT IS BELOW THIS LINE\n",
    "\"\"\"\n",
    "tests.test_flatten(flatten)"
   ]
  },
  {
   "cell_type": "markdown",
   "metadata": {},
   "source": [
    "### Fully-Connected Layer\n",
    "Implement the `fully_conn` function to apply a fully connected layer to `x_tensor` with the shape (*Batch Size*, *num_outputs*). Shortcut option: you can use classes from the [TensorFlow Layers](https://www.tensorflow.org/api_docs/python/tf/layers) or [TensorFlow Layers (contrib)](https://www.tensorflow.org/api_guides/python/contrib.layers) packages for this layer. For more of a challenge, only use other TensorFlow packages."
   ]
  },
  {
   "cell_type": "code",
   "execution_count": 12,
   "metadata": {},
   "outputs": [
    {
     "name": "stdout",
     "output_type": "stream",
     "text": [
      "Tests Passed\n"
     ]
    }
   ],
   "source": [
    "def fully_conn(x_tensor, num_outputs):\n",
    "    \"\"\"\n",
    "    Apply a fully connected layer to x_tensor using weight and bias\n",
    "    : x_tensor: A 2-D tensor where the first dimension is batch size.\n",
    "    : num_outputs: The number of output that the new tensor should be.\n",
    "    : return: A 2-D tensor where the second dimension is num_outputs.\n",
    "    \"\"\"\n",
    "    # TODO: Implement Function\n",
    "    #print(x_tensor)\n",
    "    #print(num_outputs)\n",
    "    num_inputs = x_tensor.get_shape().as_list()[1]\n",
    "    #print(num_inputs)\n",
    "    W = tf.Variable(tf.truncated_normal([num_inputs, num_outputs], stddev=0.04), tf.float32)\n",
    "    #print(W)\n",
    "    b = tf.Variable(tf.zeros([num_outputs]), tf.float32)\n",
    "    \n",
    "    fc = tf.reshape(x_tensor, [-1, W.get_shape().as_list()[0]])\n",
    "    #print(fc)\n",
    "    fc = tf.add(tf.matmul(fc, W), b)\n",
    "    fc = tf.nn.relu(fc)\n",
    "    #print(fc)\n",
    "    \n",
    "    return fc\n",
    "\n",
    "\n",
    "\"\"\"\n",
    "DON'T MODIFY ANYTHING IN THIS CELL THAT IS BELOW THIS LINE\n",
    "\"\"\"\n",
    "tests.test_fully_conn(fully_conn)"
   ]
  },
  {
   "cell_type": "markdown",
   "metadata": {},
   "source": [
    "### Output Layer\n",
    "Implement the `output` function to apply a fully connected layer to `x_tensor` with the shape (*Batch Size*, *num_outputs*). Shortcut option: you can use classes from the [TensorFlow Layers](https://www.tensorflow.org/api_docs/python/tf/layers) or [TensorFlow Layers (contrib)](https://www.tensorflow.org/api_guides/python/contrib.layers) packages for this layer. For more of a challenge, only use other TensorFlow packages.\n",
    "\n",
    "**Note:** Activation, softmax, or cross entropy should **not** be applied to this."
   ]
  },
  {
   "cell_type": "code",
   "execution_count": 13,
   "metadata": {},
   "outputs": [
    {
     "name": "stdout",
     "output_type": "stream",
     "text": [
      "Tests Passed\n"
     ]
    }
   ],
   "source": [
    "def output(x_tensor, num_outputs):\n",
    "    \"\"\"\n",
    "    Apply a output layer to x_tensor using weight and bias\n",
    "    : x_tensor: A 2-D tensor where the first dimension is batch size.\n",
    "    : num_outputs: The number of output that the new tensor should be.\n",
    "    : return: A 2-D tensor where the second dimension is num_outputs.\n",
    "    \"\"\"\n",
    "    # TODO: Implement Function\n",
    "    num_inputs = x_tensor.get_shape().as_list()[1]\n",
    "    #print(x_tensor)\n",
    "    #print(num_inputs)\n",
    "    Wout = tf.Variable(tf.truncated_normal([num_inputs, num_outputs], stddev=0.04), tf.float32)\n",
    "    bout = tf.Variable(tf.zeros([num_outputs]), tf.float32)\n",
    "    \n",
    "    out = tf.add(tf.matmul(x_tensor, Wout), bout)\n",
    "    #print(out)\n",
    "    \n",
    "    return out\n",
    "\n",
    "\n",
    "\"\"\"\n",
    "DON'T MODIFY ANYTHING IN THIS CELL THAT IS BELOW THIS LINE\n",
    "\"\"\"\n",
    "tests.test_output(output)"
   ]
  },
  {
   "cell_type": "markdown",
   "metadata": {},
   "source": [
    "### Create Convolutional Model\n",
    "Implement the function `conv_net` to create a convolutional neural network model. The function takes in a batch of images, `x`, and outputs logits.  Use the layers you created above to create this model:\n",
    "\n",
    "* Apply 1, 2, or 3 Convolution and Max Pool layers\n",
    "* Apply a Flatten Layer\n",
    "* Apply 1, 2, or 3 Fully Connected Layers\n",
    "* Apply an Output Layer\n",
    "* Return the output\n",
    "* Apply [TensorFlow's Dropout](https://www.tensorflow.org/api_docs/python/tf/nn/dropout) to one or more layers in the model using `keep_prob`. "
   ]
  },
  {
   "cell_type": "code",
   "execution_count": 43,
   "metadata": {},
   "outputs": [
    {
     "name": "stdout",
     "output_type": "stream",
     "text": [
      "Tensor(\"dropout/mul:0\", shape=(?, 16, 16, 64), dtype=float32)\n",
      "Tensor(\"MaxPool_1:0\", shape=(?, 8, 8, 128), dtype=float32)\n",
      "Tensor(\"dropout_1/mul:0\", shape=(?, 4, 4, 512), dtype=float32)\n",
      "Tensor(\"Reshape:0\", shape=(?, 8192), dtype=float32)\n",
      "Tensor(\"dropout_2/mul:0\", shape=(?, 1024), dtype=float32)\n",
      "Tensor(\"dropout_3/mul:0\", shape=(?, 512), dtype=float32)\n",
      "Tensor(\"Add_2:0\", shape=(?, 10), dtype=float32)\n",
      "Tensor(\"dropout_4/mul:0\", shape=(?, 16, 16, 64), dtype=float32)\n",
      "Tensor(\"MaxPool_4:0\", shape=(?, 8, 8, 128), dtype=float32)\n",
      "Tensor(\"dropout_5/mul:0\", shape=(?, 4, 4, 512), dtype=float32)\n",
      "Tensor(\"Reshape_6:0\", shape=(?, 8192), dtype=float32)\n",
      "Tensor(\"dropout_6/mul:0\", shape=(?, 1024), dtype=float32)\n",
      "Tensor(\"dropout_7/mul:0\", shape=(?, 512), dtype=float32)\n",
      "Tensor(\"Add_5:0\", shape=(?, 10), dtype=float32)\n",
      "Neural Network Built!\n"
     ]
    }
   ],
   "source": [
    "def conv_net(x, keep_prob):\n",
    "    \"\"\"\n",
    "    Create a convolutional neural network model\n",
    "    : x: Placeholder tensor that holds image data.\n",
    "    : keep_prob: Placeholder tensor that hold dropout keep probability.\n",
    "    : return: Tensor that represents logits\n",
    "    \"\"\"\n",
    "    # TODO: Apply 1, 2, or 3 Convolution and Max Pool layers\n",
    "    #    Play around with different number of outputs, kernel size and stride\n",
    "    # Function Definition from Above:\n",
    "    #    conv2d_maxpool(x_tensor, conv_num_outputs, conv_ksize, conv_strides, pool_ksize, pool_strides)\n",
    "    \n",
    "    conv1 = conv2d_maxpool(x,\n",
    "                           conv_num_outputs=64,\n",
    "                           conv_ksize=[5,5],\n",
    "                           conv_strides=[1,1],\n",
    "                           pool_ksize=[3,3],\n",
    "                           pool_strides=[2,2])\n",
    "    conv1 = tf.nn.dropout(conv1, keep_prob)\n",
    "    print(conv1)\n",
    "    \n",
    "    conv2 = conv2d_maxpool(conv1,\n",
    "                          conv_num_outputs=128,\n",
    "                          conv_ksize=[3,3],\n",
    "                          conv_strides=[1,1],\n",
    "                          pool_ksize=[3,3],\n",
    "                          pool_strides=[2,2])\n",
    "    #conv2 = tf.nn.dropout(conv2, keep_prob)\n",
    "    print(conv2)\n",
    "     \n",
    "    conv3 = conv2d_maxpool(conv2,\n",
    "                          conv_num_outputs=512,\n",
    "                          conv_ksize=[3,3],\n",
    "                          conv_strides=[1,1],\n",
    "                          pool_ksize=[3,3],\n",
    "                          pool_strides=[2,2])\n",
    "    conv3 = tf.nn.dropout(conv3, keep_prob)\n",
    "    print(conv3)\n",
    "    \n",
    "    # TODO: Apply a Flatten Layer\n",
    "    # Function Definition from Above:\n",
    "    #   flatten(x_tensor)\n",
    "    flat = flatten(conv3)\n",
    "    print(flat)\n",
    "    \n",
    "\n",
    "    # TODO: Apply 1, 2, or 3 Fully Connected Layers\n",
    "    #    Play around with different number of outputs\n",
    "    # Function Definition from Above:\n",
    "    #   fully_conn(x_tensor, num_outputs)\n",
    "    fc1 = fully_conn(flat, 1024)\n",
    "    fc1 = tf.nn.dropout(fc1, keep_prob)\n",
    "    print(fc1)\n",
    "    \n",
    "    fc2 = fully_conn(fc1, 512)\n",
    "    fc2 = tf.nn.dropout(fc2, keep_prob)\n",
    "    print(fc2)\n",
    "    \n",
    "    #fc3 = fully_conn(fc2, 512)\n",
    "    #fc3 = tf.nn.dropout(fc3, keep_prob)\n",
    "    #print(fc3)\n",
    "    \n",
    "    # TODO: Apply an Output Layer\n",
    "    #    Set this to the number of classes\n",
    "    # Function Definition from Above:\n",
    "    #   output(x_tensor, num_outputs)\n",
    "    \n",
    "    out = output(fc2,10)\n",
    "    print(out)\n",
    "    \n",
    "    # TODO: return output\n",
    "    return out\n",
    "\n",
    "\n",
    "\"\"\"\n",
    "DON'T MODIFY ANYTHING IN THIS CELL THAT IS BELOW THIS LINE\n",
    "\"\"\"\n",
    "\n",
    "##############################\n",
    "## Build the Neural Network ##\n",
    "##############################\n",
    "\n",
    "# Remove previous weights, bias, inputs, etc..\n",
    "tf.reset_default_graph()\n",
    "\n",
    "# Inputs\n",
    "x = neural_net_image_input((32, 32, 3))\n",
    "y = neural_net_label_input(10)\n",
    "keep_prob = neural_net_keep_prob_input()\n",
    "\n",
    "# Model\n",
    "logits = conv_net(x, keep_prob)\n",
    "\n",
    "# Name logits Tensor, so that is can be loaded from disk after training\n",
    "logits = tf.identity(logits, name='logits')\n",
    "\n",
    "# Loss and Optimizer\n",
    "cost = tf.reduce_mean(tf.nn.softmax_cross_entropy_with_logits(logits=logits, labels=y))\n",
    "optimizer = tf.train.AdamOptimizer(learning_rate = 0.001).minimize(cost)\n",
    "\n",
    "# Accuracy\n",
    "correct_pred = tf.equal(tf.argmax(logits, 1), tf.argmax(y, 1))\n",
    "accuracy = tf.reduce_mean(tf.cast(correct_pred, tf.float32), name='accuracy')\n",
    "\n",
    "tests.test_conv_net(conv_net)"
   ]
  },
  {
   "cell_type": "markdown",
   "metadata": {},
   "source": [
    "## Train the Neural Network\n",
    "### Single Optimization\n",
    "Implement the function `train_neural_network` to do a single optimization.  The optimization should use `optimizer` to optimize in `session` with a `feed_dict` of the following:\n",
    "* `x` for image input\n",
    "* `y` for labels\n",
    "* `keep_prob` for keep probability for dropout\n",
    "\n",
    "This function will be called for each batch, so `tf.global_variables_initializer()` has already been called.\n",
    "\n",
    "Note: Nothing needs to be returned. This function is only optimizing the neural network."
   ]
  },
  {
   "cell_type": "code",
   "execution_count": 15,
   "metadata": {},
   "outputs": [
    {
     "name": "stdout",
     "output_type": "stream",
     "text": [
      "Tests Passed\n"
     ]
    }
   ],
   "source": [
    "def train_neural_network(session, optimizer, keep_probability, feature_batch, label_batch):\n",
    "    \"\"\"\n",
    "    Optimize the session on a batch of images and labels\n",
    "    : session: Current TensorFlow session\n",
    "    : optimizer: TensorFlow optimizer function\n",
    "    : keep_probability: keep probability\n",
    "    : feature_batch: Batch of Numpy image data\n",
    "    : label_batch: Batch of Numpy label data\n",
    "    \"\"\"\n",
    "    # TODO: Implement Function\n",
    "    session.run(optimizer, feed_dict={x: feature_batch, y: label_batch, keep_prob: keep_probability})\n",
    "    \n",
    "    pass\n",
    "\n",
    "\n",
    "\"\"\"\n",
    "DON'T MODIFY ANYTHING IN THIS CELL THAT IS BELOW THIS LINE\n",
    "\"\"\"\n",
    "tests.test_train_nn(train_neural_network)"
   ]
  },
  {
   "cell_type": "markdown",
   "metadata": {},
   "source": [
    "### Show Stats\n",
    "Implement the function `print_stats` to print loss and validation accuracy.  Use the global variables `valid_features` and `valid_labels` to calculate validation accuracy.  Use a keep probability of `1.0` to calculate the loss and validation accuracy."
   ]
  },
  {
   "cell_type": "code",
   "execution_count": 16,
   "metadata": {},
   "outputs": [],
   "source": [
    "def print_stats(session, feature_batch, label_batch, cost, accuracy):\n",
    "    \"\"\"\n",
    "    Print information about loss and validation accuracy\n",
    "    : session: Current TensorFlow session\n",
    "    : feature_batch: Batch of Numpy image data\n",
    "    : label_batch: Batch of Numpy label data\n",
    "    : cost: TensorFlow cost function\n",
    "    : accuracy: TensorFlow accuracy function\n",
    "    \"\"\"\n",
    "    # TODO: Implement Function\n",
    "    loss = session.run(cost, feed_dict={x: feature_batch, y: label_batch, keep_prob: 1.0})\n",
    "    valid_acc = session.run(accuracy, feed_dict={x: valid_features, y: valid_labels, keep_prob: 1.0})\n",
    "    print('Loss: {:>10.4f} Validation Accuracy: {:.6f}'.format(loss, valid_acc))\n",
    "    pass"
   ]
  },
  {
   "cell_type": "markdown",
   "metadata": {},
   "source": [
    "### Hyperparameters\n",
    "Tune the following parameters:\n",
    "* Set `epochs` to the number of iterations until the network stops learning or start overfitting\n",
    "* Set `batch_size` to the highest number that your machine has memory for.  Most people set them to common sizes of memory:\n",
    " * 64\n",
    " * 128\n",
    " * 256\n",
    " * ...\n",
    "* Set `keep_probability` to the probability of keeping a node using dropout"
   ]
  },
  {
   "cell_type": "code",
   "execution_count": 44,
   "metadata": {
    "collapsed": true
   },
   "outputs": [],
   "source": [
    "# TODO: Tune Parameters\n",
    "epochs = 30\n",
    "batch_size = 512\n",
    "keep_probability = 0.75"
   ]
  },
  {
   "cell_type": "markdown",
   "metadata": {},
   "source": [
    "### Train on a Single CIFAR-10 Batch\n",
    "Instead of training the neural network on all the CIFAR-10 batches of data, let's use a single batch. This should save time while you iterate on the model to get a better accuracy.  Once the final validation accuracy is 50% or greater, run the model on all the data in the next section."
   ]
  },
  {
   "cell_type": "code",
   "execution_count": 45,
   "metadata": {
    "scrolled": false
   },
   "outputs": [
    {
     "name": "stdout",
     "output_type": "stream",
     "text": [
      "Checking the Training on a Single Batch...\n",
      "Epoch  1, CIFAR-10 Batch 1:  Loss:     2.2626 Validation Accuracy: 0.172600\n",
      "Epoch  2, CIFAR-10 Batch 1:  Loss:     1.9786 Validation Accuracy: 0.297400\n",
      "Epoch  3, CIFAR-10 Batch 1:  Loss:     1.8053 Validation Accuracy: 0.374400\n",
      "Epoch  4, CIFAR-10 Batch 1:  Loss:     1.7329 Validation Accuracy: 0.391400\n",
      "Epoch  5, CIFAR-10 Batch 1:  Loss:     1.5992 Validation Accuracy: 0.435400\n",
      "Epoch  6, CIFAR-10 Batch 1:  Loss:     1.5037 Validation Accuracy: 0.458800\n",
      "Epoch  7, CIFAR-10 Batch 1:  Loss:     1.3636 Validation Accuracy: 0.507400\n",
      "Epoch  8, CIFAR-10 Batch 1:  Loss:     1.3052 Validation Accuracy: 0.518800\n",
      "Epoch  9, CIFAR-10 Batch 1:  Loss:     1.1615 Validation Accuracy: 0.562800\n",
      "Epoch 10, CIFAR-10 Batch 1:  Loss:     1.1053 Validation Accuracy: 0.569200\n",
      "Epoch 11, CIFAR-10 Batch 1:  Loss:     1.0022 Validation Accuracy: 0.572000\n",
      "Epoch 12, CIFAR-10 Batch 1:  Loss:     0.8740 Validation Accuracy: 0.602800\n",
      "Epoch 13, CIFAR-10 Batch 1:  Loss:     0.8446 Validation Accuracy: 0.601600\n",
      "Epoch 14, CIFAR-10 Batch 1:  Loss:     0.6840 Validation Accuracy: 0.618200\n",
      "Epoch 15, CIFAR-10 Batch 1:  Loss:     0.6044 Validation Accuracy: 0.610800\n",
      "Epoch 16, CIFAR-10 Batch 1:  Loss:     0.5614 Validation Accuracy: 0.628000\n",
      "Epoch 17, CIFAR-10 Batch 1:  Loss:     0.5083 Validation Accuracy: 0.605600\n",
      "Epoch 18, CIFAR-10 Batch 1:  Loss:     0.3757 Validation Accuracy: 0.653400\n",
      "Epoch 19, CIFAR-10 Batch 1:  Loss:     0.3633 Validation Accuracy: 0.641800\n",
      "Epoch 20, CIFAR-10 Batch 1:  Loss:     0.2888 Validation Accuracy: 0.641400\n",
      "Epoch 21, CIFAR-10 Batch 1:  Loss:     0.3240 Validation Accuracy: 0.626200\n",
      "Epoch 22, CIFAR-10 Batch 1:  Loss:     0.2484 Validation Accuracy: 0.654600\n",
      "Epoch 23, CIFAR-10 Batch 1:  Loss:     0.2189 Validation Accuracy: 0.644400\n",
      "Epoch 24, CIFAR-10 Batch 1:  Loss:     0.1610 Validation Accuracy: 0.649600\n",
      "Epoch 25, CIFAR-10 Batch 1:  Loss:     0.1369 Validation Accuracy: 0.647000\n",
      "Epoch 26, CIFAR-10 Batch 1:  Loss:     0.1357 Validation Accuracy: 0.641400\n",
      "Epoch 27, CIFAR-10 Batch 1:  Loss:     0.1005 Validation Accuracy: 0.659200\n",
      "Epoch 28, CIFAR-10 Batch 1:  Loss:     0.1043 Validation Accuracy: 0.648800\n",
      "Epoch 29, CIFAR-10 Batch 1:  Loss:     0.0786 Validation Accuracy: 0.655200\n",
      "Epoch 30, CIFAR-10 Batch 1:  Loss:     0.0685 Validation Accuracy: 0.649200\n"
     ]
    }
   ],
   "source": [
    "\"\"\"\n",
    "DON'T MODIFY ANYTHING IN THIS CELL\n",
    "\"\"\"\n",
    "print('Checking the Training on a Single Batch...')\n",
    "with tf.Session() as sess:\n",
    "    # Initializing the variables\n",
    "    sess.run(tf.global_variables_initializer())\n",
    "    \n",
    "    # Training cycle\n",
    "    for epoch in range(epochs):\n",
    "        batch_i = 1\n",
    "        for batch_features, batch_labels in helper.load_preprocess_training_batch(batch_i, batch_size):\n",
    "            train_neural_network(sess, optimizer, keep_probability, batch_features, batch_labels)\n",
    "        print('Epoch {:>2}, CIFAR-10 Batch {}:  '.format(epoch + 1, batch_i), end='')\n",
    "        print_stats(sess, batch_features, batch_labels, cost, accuracy)"
   ]
  },
  {
   "cell_type": "markdown",
   "metadata": {},
   "source": [
    "### Fully Train the Model\n",
    "Now that you got a good accuracy with a single CIFAR-10 batch, try it with all five batches."
   ]
  },
  {
   "cell_type": "code",
   "execution_count": 46,
   "metadata": {
    "scrolled": true
   },
   "outputs": [
    {
     "name": "stdout",
     "output_type": "stream",
     "text": [
      "Training...\n",
      "Epoch  1, CIFAR-10 Batch 1:  Loss:     2.2790 Validation Accuracy: 0.187400\n",
      "Epoch  1, CIFAR-10 Batch 2:  Loss:     1.9545 Validation Accuracy: 0.272400\n",
      "Epoch  1, CIFAR-10 Batch 3:  Loss:     1.7841 Validation Accuracy: 0.334400\n",
      "Epoch  1, CIFAR-10 Batch 4:  Loss:     1.6436 Validation Accuracy: 0.397400\n",
      "Epoch  1, CIFAR-10 Batch 5:  Loss:     1.6837 Validation Accuracy: 0.379600\n",
      "Epoch  2, CIFAR-10 Batch 1:  Loss:     1.6325 Validation Accuracy: 0.453000\n",
      "Epoch  2, CIFAR-10 Batch 2:  Loss:     1.5046 Validation Accuracy: 0.459000\n",
      "Epoch  2, CIFAR-10 Batch 3:  Loss:     1.3288 Validation Accuracy: 0.461400\n",
      "Epoch  2, CIFAR-10 Batch 4:  Loss:     1.2450 Validation Accuracy: 0.516000\n",
      "Epoch  2, CIFAR-10 Batch 5:  Loss:     1.4664 Validation Accuracy: 0.451400\n",
      "Epoch  3, CIFAR-10 Batch 1:  Loss:     1.3173 Validation Accuracy: 0.560600\n",
      "Epoch  3, CIFAR-10 Batch 2:  Loss:     1.2705 Validation Accuracy: 0.530200\n",
      "Epoch  3, CIFAR-10 Batch 3:  Loss:     0.9986 Validation Accuracy: 0.574200\n",
      "Epoch  3, CIFAR-10 Batch 4:  Loss:     1.1446 Validation Accuracy: 0.545600\n",
      "Epoch  3, CIFAR-10 Batch 5:  Loss:     1.0397 Validation Accuracy: 0.588200\n",
      "Epoch  4, CIFAR-10 Batch 1:  Loss:     1.0132 Validation Accuracy: 0.641200\n",
      "Epoch  4, CIFAR-10 Batch 2:  Loss:     0.9604 Validation Accuracy: 0.618800\n",
      "Epoch  4, CIFAR-10 Batch 3:  Loss:     0.8849 Validation Accuracy: 0.626000\n",
      "Epoch  4, CIFAR-10 Batch 4:  Loss:     0.8938 Validation Accuracy: 0.603800\n",
      "Epoch  4, CIFAR-10 Batch 5:  Loss:     0.8018 Validation Accuracy: 0.659800\n",
      "Epoch  5, CIFAR-10 Batch 1:  Loss:     0.8959 Validation Accuracy: 0.658200\n",
      "Epoch  5, CIFAR-10 Batch 2:  Loss:     0.9160 Validation Accuracy: 0.633000\n",
      "Epoch  5, CIFAR-10 Batch 3:  Loss:     0.7403 Validation Accuracy: 0.667400\n",
      "Epoch  5, CIFAR-10 Batch 4:  Loss:     0.6374 Validation Accuracy: 0.694200\n",
      "Epoch  5, CIFAR-10 Batch 5:  Loss:     0.6415 Validation Accuracy: 0.694000\n",
      "Epoch  6, CIFAR-10 Batch 1:  Loss:     0.7145 Validation Accuracy: 0.713000\n",
      "Epoch  6, CIFAR-10 Batch 2:  Loss:     0.6663 Validation Accuracy: 0.695600\n",
      "Epoch  6, CIFAR-10 Batch 3:  Loss:     0.5575 Validation Accuracy: 0.706000\n",
      "Epoch  6, CIFAR-10 Batch 4:  Loss:     0.5285 Validation Accuracy: 0.727600\n",
      "Epoch  6, CIFAR-10 Batch 5:  Loss:     0.5523 Validation Accuracy: 0.725600\n",
      "Epoch  7, CIFAR-10 Batch 1:  Loss:     0.5988 Validation Accuracy: 0.728800\n",
      "Epoch  7, CIFAR-10 Batch 2:  Loss:     0.6326 Validation Accuracy: 0.698400\n",
      "Epoch  7, CIFAR-10 Batch 3:  Loss:     0.4580 Validation Accuracy: 0.730000\n",
      "Epoch  7, CIFAR-10 Batch 4:  Loss:     0.4704 Validation Accuracy: 0.726400\n",
      "Epoch  7, CIFAR-10 Batch 5:  Loss:     0.4473 Validation Accuracy: 0.743400\n",
      "Epoch  8, CIFAR-10 Batch 1:  Loss:     0.5174 Validation Accuracy: 0.745600\n",
      "Epoch  8, CIFAR-10 Batch 2:  Loss:     0.5432 Validation Accuracy: 0.724400\n",
      "Epoch  8, CIFAR-10 Batch 3:  Loss:     0.4977 Validation Accuracy: 0.697600\n",
      "Epoch  8, CIFAR-10 Batch 4:  Loss:     0.3761 Validation Accuracy: 0.746000\n",
      "Epoch  8, CIFAR-10 Batch 5:  Loss:     0.3974 Validation Accuracy: 0.749200\n",
      "Epoch  9, CIFAR-10 Batch 1:  Loss:     0.4577 Validation Accuracy: 0.752200\n",
      "Epoch  9, CIFAR-10 Batch 2:  Loss:     0.4166 Validation Accuracy: 0.754400\n",
      "Epoch  9, CIFAR-10 Batch 3:  Loss:     0.3439 Validation Accuracy: 0.745800\n",
      "Epoch  9, CIFAR-10 Batch 4:  Loss:     0.3771 Validation Accuracy: 0.739200\n",
      "Epoch  9, CIFAR-10 Batch 5:  Loss:     0.3668 Validation Accuracy: 0.744400\n",
      "Epoch 10, CIFAR-10 Batch 1:  Loss:     0.4280 Validation Accuracy: 0.749600\n",
      "Epoch 10, CIFAR-10 Batch 2:  Loss:     0.3450 Validation Accuracy: 0.755400\n",
      "Epoch 10, CIFAR-10 Batch 3:  Loss:     0.3186 Validation Accuracy: 0.745800\n",
      "Epoch 10, CIFAR-10 Batch 4:  Loss:     0.2788 Validation Accuracy: 0.760800\n",
      "Epoch 10, CIFAR-10 Batch 5:  Loss:     0.3182 Validation Accuracy: 0.744400\n",
      "Epoch 11, CIFAR-10 Batch 1:  Loss:     0.4524 Validation Accuracy: 0.737600\n",
      "Epoch 11, CIFAR-10 Batch 2:  Loss:     0.3260 Validation Accuracy: 0.737400\n",
      "Epoch 11, CIFAR-10 Batch 3:  Loss:     0.2887 Validation Accuracy: 0.738600\n",
      "Epoch 11, CIFAR-10 Batch 4:  Loss:     0.3207 Validation Accuracy: 0.753000\n",
      "Epoch 11, CIFAR-10 Batch 5:  Loss:     0.2238 Validation Accuracy: 0.756200\n",
      "Epoch 12, CIFAR-10 Batch 1:  Loss:     0.3007 Validation Accuracy: 0.761600\n",
      "Epoch 12, CIFAR-10 Batch 2:  Loss:     0.2831 Validation Accuracy: 0.752400\n",
      "Epoch 12, CIFAR-10 Batch 3:  Loss:     0.2155 Validation Accuracy: 0.760200\n",
      "Epoch 12, CIFAR-10 Batch 4:  Loss:     0.2456 Validation Accuracy: 0.760600\n",
      "Epoch 12, CIFAR-10 Batch 5:  Loss:     0.2236 Validation Accuracy: 0.740400\n",
      "Epoch 13, CIFAR-10 Batch 1:  Loss:     0.2377 Validation Accuracy: 0.772200\n",
      "Epoch 13, CIFAR-10 Batch 2:  Loss:     0.2353 Validation Accuracy: 0.746600\n",
      "Epoch 13, CIFAR-10 Batch 3:  Loss:     0.2085 Validation Accuracy: 0.758800\n",
      "Epoch 13, CIFAR-10 Batch 4:  Loss:     0.2208 Validation Accuracy: 0.761400\n",
      "Epoch 13, CIFAR-10 Batch 5:  Loss:     0.2040 Validation Accuracy: 0.743800\n",
      "Epoch 14, CIFAR-10 Batch 1:  Loss:     0.2400 Validation Accuracy: 0.765600\n",
      "Epoch 14, CIFAR-10 Batch 2:  Loss:     0.1759 Validation Accuracy: 0.768800\n",
      "Epoch 14, CIFAR-10 Batch 3:  Loss:     0.1528 Validation Accuracy: 0.775400\n",
      "Epoch 14, CIFAR-10 Batch 4:  Loss:     0.1618 Validation Accuracy: 0.772200\n",
      "Epoch 14, CIFAR-10 Batch 5:  Loss:     0.1344 Validation Accuracy: 0.755800\n",
      "Epoch 15, CIFAR-10 Batch 1:  Loss:     0.1720 Validation Accuracy: 0.765400\n",
      "Epoch 15, CIFAR-10 Batch 2:  Loss:     0.1342 Validation Accuracy: 0.775000\n",
      "Epoch 15, CIFAR-10 Batch 3:  Loss:     0.1279 Validation Accuracy: 0.769600\n",
      "Epoch 15, CIFAR-10 Batch 4:  Loss:     0.1343 Validation Accuracy: 0.772800\n",
      "Epoch 15, CIFAR-10 Batch 5:  Loss:     0.1053 Validation Accuracy: 0.779200\n",
      "Epoch 16, CIFAR-10 Batch 1:  Loss:     0.1444 Validation Accuracy: 0.780600\n",
      "Epoch 16, CIFAR-10 Batch 2:  Loss:     0.1212 Validation Accuracy: 0.768600\n",
      "Epoch 16, CIFAR-10 Batch 3:  Loss:     0.1066 Validation Accuracy: 0.768400\n",
      "Epoch 16, CIFAR-10 Batch 4:  Loss:     0.1164 Validation Accuracy: 0.781800\n",
      "Epoch 16, CIFAR-10 Batch 5:  Loss:     0.1081 Validation Accuracy: 0.759800\n",
      "Epoch 17, CIFAR-10 Batch 1:  Loss:     0.1477 Validation Accuracy: 0.763800\n",
      "Epoch 17, CIFAR-10 Batch 2:  Loss:     0.1108 Validation Accuracy: 0.776400\n",
      "Epoch 17, CIFAR-10 Batch 3:  Loss:     0.0837 Validation Accuracy: 0.770600\n",
      "Epoch 17, CIFAR-10 Batch 4:  Loss:     0.1476 Validation Accuracy: 0.774200\n",
      "Epoch 17, CIFAR-10 Batch 5:  Loss:     0.1136 Validation Accuracy: 0.765400\n",
      "Epoch 18, CIFAR-10 Batch 1:  Loss:     0.1094 Validation Accuracy: 0.769000\n",
      "Epoch 18, CIFAR-10 Batch 2:  Loss:     0.1073 Validation Accuracy: 0.773400\n",
      "Epoch 18, CIFAR-10 Batch 3:  Loss:     0.0814 Validation Accuracy: 0.773400\n",
      "Epoch 18, CIFAR-10 Batch 4:  Loss:     0.1040 Validation Accuracy: 0.770000\n",
      "Epoch 18, CIFAR-10 Batch 5:  Loss:     0.1346 Validation Accuracy: 0.740800\n",
      "Epoch 19, CIFAR-10 Batch 1:  Loss:     0.0771 Validation Accuracy: 0.769600\n",
      "Epoch 19, CIFAR-10 Batch 2:  Loss:     0.0866 Validation Accuracy: 0.775600\n",
      "Epoch 19, CIFAR-10 Batch 3:  Loss:     0.0638 Validation Accuracy: 0.782600\n",
      "Epoch 19, CIFAR-10 Batch 4:  Loss:     0.0959 Validation Accuracy: 0.759200\n",
      "Epoch 19, CIFAR-10 Batch 5:  Loss:     0.0831 Validation Accuracy: 0.749000\n",
      "Epoch 20, CIFAR-10 Batch 1:  Loss:     0.0997 Validation Accuracy: 0.770200\n",
      "Epoch 20, CIFAR-10 Batch 2:  Loss:     0.0549 Validation Accuracy: 0.786600\n",
      "Epoch 20, CIFAR-10 Batch 3:  Loss:     0.0457 Validation Accuracy: 0.783600\n",
      "Epoch 20, CIFAR-10 Batch 4:  Loss:     0.0580 Validation Accuracy: 0.782200\n",
      "Epoch 20, CIFAR-10 Batch 5:  Loss:     0.0487 Validation Accuracy: 0.752600\n",
      "Epoch 21, CIFAR-10 Batch 1:  Loss:     0.0589 Validation Accuracy: 0.779000\n",
      "Epoch 21, CIFAR-10 Batch 2:  Loss:     0.0542 Validation Accuracy: 0.782800\n",
      "Epoch 21, CIFAR-10 Batch 3:  Loss:     0.0428 Validation Accuracy: 0.782000\n",
      "Epoch 21, CIFAR-10 Batch 4:  Loss:     0.0566 Validation Accuracy: 0.779600\n",
      "Epoch 21, CIFAR-10 Batch 5:  Loss:     0.0381 Validation Accuracy: 0.778200\n",
      "Epoch 22, CIFAR-10 Batch 1:  Loss:     0.0456 Validation Accuracy: 0.787800\n",
      "Epoch 22, CIFAR-10 Batch 2:  Loss:     0.0344 Validation Accuracy: 0.793600\n",
      "Epoch 22, CIFAR-10 Batch 3:  Loss:     0.0409 Validation Accuracy: 0.777600\n",
      "Epoch 22, CIFAR-10 Batch 4:  Loss:     0.0510 Validation Accuracy: 0.777600\n",
      "Epoch 22, CIFAR-10 Batch 5:  Loss:     0.0231 Validation Accuracy: 0.788600\n",
      "Epoch 23, CIFAR-10 Batch 1:  Loss:     0.0315 Validation Accuracy: 0.791000\n",
      "Epoch 23, CIFAR-10 Batch 2:  Loss:     0.0267 Validation Accuracy: 0.784800\n",
      "Epoch 23, CIFAR-10 Batch 3:  Loss:     0.0281 Validation Accuracy: 0.787400\n",
      "Epoch 23, CIFAR-10 Batch 4:  Loss:     0.0462 Validation Accuracy: 0.777200\n",
      "Epoch 23, CIFAR-10 Batch 5:  Loss:     0.0230 Validation Accuracy: 0.792600\n",
      "Epoch 24, CIFAR-10 Batch 1:  Loss:     0.0231 Validation Accuracy: 0.786000\n",
      "Epoch 24, CIFAR-10 Batch 2:  Loss:     0.0257 Validation Accuracy: 0.782000\n",
      "Epoch 24, CIFAR-10 Batch 3:  Loss:     0.0307 Validation Accuracy: 0.773400\n",
      "Epoch 24, CIFAR-10 Batch 4:  Loss:     0.0450 Validation Accuracy: 0.765800\n",
      "Epoch 24, CIFAR-10 Batch 5:  Loss:     0.0188 Validation Accuracy: 0.794600\n",
      "Epoch 25, CIFAR-10 Batch 1:  Loss:     0.0245 Validation Accuracy: 0.786400\n",
      "Epoch 25, CIFAR-10 Batch 2:  Loss:     0.0217 Validation Accuracy: 0.789600\n",
      "Epoch 25, CIFAR-10 Batch 3:  Loss:     0.0227 Validation Accuracy: 0.785200\n",
      "Epoch 25, CIFAR-10 Batch 4:  Loss:     0.0382 Validation Accuracy: 0.778200\n",
      "Epoch 25, CIFAR-10 Batch 5:  Loss:     0.0304 Validation Accuracy: 0.782000\n",
      "Epoch 26, CIFAR-10 Batch 1:  Loss:     0.0173 Validation Accuracy: 0.783400\n",
      "Epoch 26, CIFAR-10 Batch 2:  Loss:     0.0142 Validation Accuracy: 0.787000\n",
      "Epoch 26, CIFAR-10 Batch 3:  Loss:     0.0330 Validation Accuracy: 0.783200\n",
      "Epoch 26, CIFAR-10 Batch 4:  Loss:     0.0227 Validation Accuracy: 0.779400\n",
      "Epoch 26, CIFAR-10 Batch 5:  Loss:     0.0134 Validation Accuracy: 0.791600\n",
      "Epoch 27, CIFAR-10 Batch 1:  Loss:     0.0189 Validation Accuracy: 0.797800\n",
      "Epoch 27, CIFAR-10 Batch 2:  Loss:     0.0171 Validation Accuracy: 0.796400\n",
      "Epoch 27, CIFAR-10 Batch 3:  Loss:     0.0185 Validation Accuracy: 0.788800\n",
      "Epoch 27, CIFAR-10 Batch 4:  Loss:     0.0206 Validation Accuracy: 0.781600\n",
      "Epoch 27, CIFAR-10 Batch 5:  Loss:     0.0172 Validation Accuracy: 0.778400\n",
      "Epoch 28, CIFAR-10 Batch 1:  Loss:     0.0115 Validation Accuracy: 0.799400\n",
      "Epoch 28, CIFAR-10 Batch 2:  Loss:     0.0136 Validation Accuracy: 0.797000\n",
      "Epoch 28, CIFAR-10 Batch 3:  Loss:     0.0139 Validation Accuracy: 0.786400\n",
      "Epoch 28, CIFAR-10 Batch 4:  Loss:     0.0126 Validation Accuracy: 0.784200\n",
      "Epoch 28, CIFAR-10 Batch 5:  Loss:     0.0151 Validation Accuracy: 0.783800\n",
      "Epoch 29, CIFAR-10 Batch 1:  Loss:     0.0097 Validation Accuracy: 0.793200\n",
      "Epoch 29, CIFAR-10 Batch 2:  Loss:     0.0163 Validation Accuracy: 0.792400\n",
      "Epoch 29, CIFAR-10 Batch 3:  Loss:     0.0086 Validation Accuracy: 0.795600\n",
      "Epoch 29, CIFAR-10 Batch 4:  Loss:     0.0231 Validation Accuracy: 0.786000\n",
      "Epoch 29, CIFAR-10 Batch 5:  Loss:     0.0168 Validation Accuracy: 0.781200\n",
      "Epoch 30, CIFAR-10 Batch 1:  Loss:     0.0209 Validation Accuracy: 0.789000\n",
      "Epoch 30, CIFAR-10 Batch 2:  Loss:     0.0200 Validation Accuracy: 0.792800\n",
      "Epoch 30, CIFAR-10 Batch 3:  Loss:     0.0105 Validation Accuracy: 0.787200\n",
      "Epoch 30, CIFAR-10 Batch 4:  Loss:     0.0130 Validation Accuracy: 0.787800\n",
      "Epoch 30, CIFAR-10 Batch 5:  Loss:     0.0159 Validation Accuracy: 0.767400\n"
     ]
    }
   ],
   "source": [
    "\"\"\"\n",
    "DON'T MODIFY ANYTHING IN THIS CELL\n",
    "\"\"\"\n",
    "save_model_path = './image_classification'\n",
    "\n",
    "print('Training...')\n",
    "with tf.Session() as sess:\n",
    "    # Initializing the variables\n",
    "    sess.run(tf.global_variables_initializer())\n",
    "    \n",
    "    # Training cycle\n",
    "    for epoch in range(epochs):\n",
    "        # Loop over all batches\n",
    "        n_batches = 5\n",
    "        for batch_i in range(1, n_batches + 1):\n",
    "            for batch_features, batch_labels in helper.load_preprocess_training_batch(batch_i, batch_size):\n",
    "                train_neural_network(sess, optimizer, keep_probability, batch_features, batch_labels)\n",
    "            print('Epoch {:>2}, CIFAR-10 Batch {}:  '.format(epoch + 1, batch_i), end='')\n",
    "            print_stats(sess, batch_features, batch_labels, cost, accuracy)\n",
    "            \n",
    "    # Save Model\n",
    "    saver = tf.train.Saver()\n",
    "    save_path = saver.save(sess, save_model_path)"
   ]
  },
  {
   "cell_type": "markdown",
   "metadata": {},
   "source": [
    "# Checkpoint\n",
    "The model has been saved to disk.\n",
    "## Test Model\n",
    "Test your model against the test dataset.  This will be your final accuracy. You should have an accuracy greater than 50%. If you don't, keep tweaking the model architecture and parameters."
   ]
  },
  {
   "cell_type": "code",
   "execution_count": 47,
   "metadata": {},
   "outputs": [
    {
     "name": "stdout",
     "output_type": "stream",
     "text": [
      "Testing Accuracy: 0.7651080012321472\n",
      "\n"
     ]
    },
    {
     "data": {
      "image/png": "[encoded data removed]",
      "text/plain": [
       "<matplotlib.figure.Figure at 0x7f14e6e54f60>"
      ]
     },
     "metadata": {
      "image/png": {
       "height": 319,
       "width": 355
      }
     },
     "output_type": "display_data"
    }
   ],
   "source": [
    "\"\"\"\n",
    "DON'T MODIFY ANYTHING IN THIS CELL\n",
    "\"\"\"\n",
    "%matplotlib inline\n",
    "%config InlineBackend.figure_format = 'retina'\n",
    "\n",
    "import tensorflow as tf\n",
    "import pickle\n",
    "import helper\n",
    "import random\n",
    "\n",
    "# Set batch size if not already set\n",
    "try:\n",
    "    if batch_size:\n",
    "        pass\n",
    "except NameError:\n",
    "    batch_size = 64\n",
    "\n",
    "save_model_path = './image_classification'\n",
    "n_samples = 4\n",
    "top_n_predictions = 3\n",
    "\n",
    "def test_model():\n",
    "    \"\"\"\n",
    "    Test the saved model against the test dataset\n",
    "    \"\"\"\n",
    "\n",
    "    test_features, test_labels = pickle.load(open('preprocess_test.p', mode='rb'))\n",
    "    loaded_graph = tf.Graph()\n",
    "\n",
    "    with tf.Session(graph=loaded_graph) as sess:\n",
    "        # Load model\n",
    "        loader = tf.train.import_meta_graph(save_model_path + '.meta')\n",
    "        loader.restore(sess, save_model_path)\n",
    "\n",
    "        # Get Tensors from loaded model\n",
    "        loaded_x = loaded_graph.get_tensor_by_name('x:0')\n",
    "        loaded_y = loaded_graph.get_tensor_by_name('y:0')\n",
    "        loaded_keep_prob = loaded_graph.get_tensor_by_name('keep_prob:0')\n",
    "        loaded_logits = loaded_graph.get_tensor_by_name('logits:0')\n",
    "        loaded_acc = loaded_graph.get_tensor_by_name('accuracy:0')\n",
    "        \n",
    "        # Get accuracy in batches for memory limitations\n",
    "        test_batch_acc_total = 0\n",
    "        test_batch_count = 0\n",
    "        \n",
    "        for test_feature_batch, test_label_batch in helper.batch_features_labels(test_features, test_labels, batch_size):\n",
    "            test_batch_acc_total += sess.run(\n",
    "                loaded_acc,\n",
    "                feed_dict={loaded_x: test_feature_batch, loaded_y: test_label_batch, loaded_keep_prob: 1.0})\n",
    "            test_batch_count += 1\n",
    "\n",
    "        print('Testing Accuracy: {}\\n'.format(test_batch_acc_total/test_batch_count))\n",
    "\n",
    "        # Print Random Samples\n",
    "        random_test_features, random_test_labels = tuple(zip(*random.sample(list(zip(test_features, test_labels)), n_samples)))\n",
    "        random_test_predictions = sess.run(\n",
    "            tf.nn.top_k(tf.nn.softmax(loaded_logits), top_n_predictions),\n",
    "            feed_dict={loaded_x: random_test_features, loaded_y: random_test_labels, loaded_keep_prob: 1.0})\n",
    "        helper.display_image_predictions(random_test_features, random_test_labels, random_test_predictions)\n",
    "\n",
    "\n",
    "test_model()"
   ]
  },
  {
   "cell_type": "markdown",
   "metadata": {},
   "source": [
    "## Why 50-80% Accuracy?\n",
    "You might be wondering why you can't get an accuracy any higher. First things first, 50% isn't bad for a simple CNN.  Pure guessing would get you 10% accuracy. However, you might notice people are getting scores [well above 80%](http://rodrigob.github.io/are_we_there_yet/build/classification_datasets_results.html#43494641522d3130).  That's because we haven't taught you all there is to know about neural networks. We still need to cover a few more techniques.\n",
    "## Submitting This Project\n",
    "When submitting this project, make sure to run all the cells before saving the notebook.  Save the notebook file as \"dlnd_image_classification.ipynb\" and save it as a HTML file under \"File\" -> \"Download as\".  Include the \"helper.py\" and \"problem_unittests.py\" files in your submission."
   ]
  }
 ],
 "metadata": {
  "kernelspec": {
   "display_name": "Python [default]",
   "language": "python",
   "name": "python3"
  },
  "language_info": {
   "codemirror_mode": {
    "name": "ipython",
    "version": 3
   },
   "file_extension": ".py",
   "mimetype": "text/x-python",
   "name": "python",
   "nbconvert_exporter": "python",
   "pygments_lexer": "ipython3",
   "version": "3.6.1"
  },
  "widgets": {
   "state": {},
   "version": "1.1.2"
  }
 },
 "nbformat": 4,
 "nbformat_minor": 1
}
